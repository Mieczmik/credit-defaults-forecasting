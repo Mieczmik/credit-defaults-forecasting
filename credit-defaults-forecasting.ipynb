{
 "cells": [
  {
   "cell_type": "markdown",
   "id": "b0b0e774",
   "metadata": {},
   "source": [
    "# Description, assumptions and goals of the project\n",
    "## Description\n",
    "One of the most simple and popular consumer finance products is an Unsecured Personal Loan. Competition in the market is strong and margins are slim so the product has to be well prepared. To be able to offer the right price for the customer The Lender has to know what is the cost of lending and a big part of that cost comes from non-performing loans. The purpose of this notebook is to build a contemporary credit scoring model to forecast credit defaults for unsecured lending, by employing machine learning techniques.\n",
    "\n",
    "\n",
    "## Assumption\n",
    "* The dataset is owned by a polish parabank and will not be made publicly available. \n",
    "* It should be emphasized that these are **real data**.\n",
    "* The author does not have documentation for dataset.\n",
    "* Note: Building models at classes is a breeze—clean datasets, pre-engineered features and automated hyper-parameter tuning. It took a couple of hours to get 99.9% accuracy. In the real world, it's teams of people (not one person) who build models for months exchanging lots of information with other parts of the company.\n",
    "\n",
    "## Goals\n",
    "* This is the **initial analysis** that aims to build a probability of default classifier and evaluate its performance.\n",
    "* Draw appropriate conclusions, identify areas for further analysis"
   ]
  },
  {
   "cell_type": "code",
   "execution_count": 42,
   "id": "70b798dc-07ef-44d8-aeeb-bd431cc05a92",
   "metadata": {},
   "outputs": [],
   "source": [
    "import os\n",
    "import pandas as pd\n",
    "import numpy as np\n",
    "import matplotlib.pyplot as plt"
   ]
  },
  {
   "cell_type": "markdown",
   "id": "7f256553",
   "metadata": {},
   "source": [
    "# Read data"
   ]
  },
  {
   "cell_type": "code",
   "execution_count": 43,
   "id": "bd91fd95-f416-4d4b-b89f-9c761c4a403f",
   "metadata": {},
   "outputs": [],
   "source": [
    "data_path = os.path.join(\"datasets\")"
   ]
  },
  {
   "cell_type": "code",
   "execution_count": 44,
   "id": "dfa9e90c-1db9-401d-81ca-22aecf102205",
   "metadata": {},
   "outputs": [],
   "source": [
    "def load_data(filename, data_path=data_path):\n",
    "    csv_path = os.path.join(data_path, filename)\n",
    "    df = pd.read_csv(csv_path, sep = \";\", decimal = \",\", dayfirst=True, parse_dates = ['loan_date_created'])\n",
    "    df['loan_date_created'] = pd.DatetimeIndex(df['loan_date_created']).month.astype(str) + \"-\" + pd.DatetimeIndex(df['loan_date_created']).year.astype(str)\n",
    "    return df"
   ]
  },
  {
   "cell_type": "code",
   "execution_count": 45,
   "id": "14d84a0c-deca-436e-bf37-27bd8eaa6536",
   "metadata": {},
   "outputs": [],
   "source": [
    "train_data = load_data(\"data_DS_HW_train.csv\")\n",
    "test_data = load_data(\"data_DS_HW_test.csv\")"
   ]
  },
  {
   "cell_type": "markdown",
   "id": "c1b926f6",
   "metadata": {},
   "source": [
    "# Data review with pandas-profiling"
   ]
  },
  {
   "cell_type": "code",
   "execution_count": 46,
   "id": "aaa5e85c",
   "metadata": {},
   "outputs": [],
   "source": [
    "from pandas_profiling import ProfileReport"
   ]
  },
  {
   "cell_type": "code",
   "execution_count": 47,
   "id": "a57469f9",
   "metadata": {},
   "outputs": [],
   "source": [
    "data = pd.concat([train_data, test_data])"
   ]
  },
  {
   "cell_type": "code",
   "execution_count": 48,
   "id": "325296d5",
   "metadata": {},
   "outputs": [],
   "source": [
    "profile = ProfileReport(data,\n",
    "title=\"Pandas Profiling Report\",\n",
    "    correlations={\n",
    "        \"pearson\": {\"calculate\": False},\n",
    "        \"spearman\": {\"calculate\": False},\n",
    "        \"kendall\": {\"calculate\": False},\n",
    "        \"phi_k\": {\"calculate\": False},\n",
    "        \"cramers\": {\"calculate\": False},\n",
    "    }\n",
    "    )"
   ]
  },
  {
   "cell_type": "code",
   "execution_count": 49,
   "id": "47ee891f",
   "metadata": {},
   "outputs": [],
   "source": [
    "#profile.to_file(\"output/reports/profiling_report.html\");"
   ]
  },
  {
   "cell_type": "markdown",
   "id": "da791893",
   "metadata": {},
   "source": [
    "Data statistics had been created by pandas_profiling library. Report is availabe in \"\\output\\reports\\profiling_report.html\" directory."
   ]
  },
  {
   "cell_type": "markdown",
   "id": "e77daf0f",
   "metadata": {},
   "source": [
    "### Summary\n",
    "* In order to avoid overfitting models (without feature selection xgboost classifier was overfitted), achieve greater computational efficiency, reduce the occupied memory space, eliminate unnecessary and duplicate information, one of the feature selection methods was used:\n",
    "**SelectFromModel**\n",
    "Another way could be to use Pearson correlation feature elimination, Chi-square statistic feature elimination, Recursive feature elimination (RFE), Lasso/ridge regression feature elimination or combination of all of the above.\n",
    "* Applied tactics to combat imbalanced training data:\n",
    "  * Change performance metric to **F1-score**,\n",
    "  * Resampling dataset: generate synthetic samples with **SMOTE** and undersampling data with **RandomUnderSampler**,\n",
    "  * Missing data replacement has been done with SimpleImputer,\n",
    "  * Using **stratified k-fold cross-validation** which enforce the class distribution in each split of the data to match the distribution in the complete training dataset."
   ]
  },
  {
   "cell_type": "code",
   "execution_count": 50,
   "id": "f0a9ac09",
   "metadata": {},
   "outputs": [],
   "source": [
    "train_data.dropna(subset = [\"TARGET\"], inplace=True)\n",
    "y_train = train_data[\"TARGET\"]"
   ]
  },
  {
   "cell_type": "code",
   "execution_count": 53,
   "id": "2ae5a1ce",
   "metadata": {},
   "outputs": [],
   "source": [
    "from sklearn.model_selection import train_test_split\n",
    "X_train, X_test, y_train, y_test = train_test_split(train_data, y_train, test_size=0.2, random_state=42)"
   ]
  },
  {
   "cell_type": "code",
   "execution_count": 54,
   "id": "d037a810",
   "metadata": {},
   "outputs": [],
   "source": [
    "X_train = X_train.drop(\"TARGET\", axis=1)"
   ]
  },
  {
   "cell_type": "markdown",
   "id": "df1ab2bf",
   "metadata": {},
   "source": [
    "# Preprocessing pipeline"
   ]
  },
  {
   "cell_type": "code",
   "execution_count": 55,
   "id": "2c75c52d",
   "metadata": {},
   "outputs": [],
   "source": [
    "from imblearn.pipeline import Pipeline as Pipeline\n",
    "from imblearn.over_sampling import SMOTE\n",
    "from imblearn.under_sampling import RandomUnderSampler\n",
    "from sklearn.impute import SimpleImputer\n",
    "from sklearn.preprocessing import StandardScaler\n",
    "from sklearn.preprocessing import MinMaxScaler\n",
    "from sklearn.preprocessing import OneHotEncoder\n",
    "from sklearn.preprocessing import LabelEncoder\n",
    "from sklearn.compose import make_column_selector as selector"
   ]
  },
  {
   "cell_type": "markdown",
   "id": "04298355",
   "metadata": {},
   "source": [
    "My selection"
   ]
  },
  {
   "cell_type": "code",
   "execution_count": 56,
   "id": "d01f2107",
   "metadata": {},
   "outputs": [],
   "source": [
    "from sklearn.base import BaseEstimator, TransformerMixin\n",
    "\n",
    "class DataFrameRemover(BaseEstimator, TransformerMixin):\n",
    "    def __init__(self, attribute_names):\n",
    "        self.attribute_names = attribute_names\n",
    "    def fit(self, X, y=None):\n",
    "        return self\n",
    "    def transform(self, X):\n",
    "        return X.drop(self.attribute_names, axis=1)"
   ]
  },
  {
   "cell_type": "markdown",
   "id": "eaf678db",
   "metadata": {},
   "source": [
    "To fill nan values I'll use SimpleImputer with most frequent strategy for categorical data and median strategy for numerical data.\n",
    "It seems the fastest approach to modeling. To limit of data amount I'll use \"Feature Selection\" in my pipeline.\n",
    "Another way could be to drop columns where there are a lot of missing values or zeros and manually remove columns that seem unnecessary in solving the problem (no documentation explaining the columns).\n",
    "Note: I think \"Feature Selection\" task could be executed before whole pipeline. It will be more efficiency because there would be no need to repeat this task."
   ]
  },
  {
   "cell_type": "markdown",
   "id": "854deb2b",
   "metadata": {},
   "source": [
    "## Pipeline for categorical data"
   ]
  },
  {
   "cell_type": "code",
   "execution_count": 57,
   "id": "e41d869d",
   "metadata": {},
   "outputs": [],
   "source": [
    "from sklearn.preprocessing import OneHotEncoder\n",
    "from sklearn.preprocessing import LabelEncoder\n",
    "from sklearn.experimental import enable_iterative_imputer\n",
    "from sklearn.impute import IterativeImputer\n",
    "\n",
    "cat_pipeline = Pipeline([\n",
    "        (\"imputer\", SimpleImputer(strategy = \"most_frequent\", add_indicator=True)),#(\"imputer\", IterativeImputer(initial_strategy = \"most_frequent\", add_indicator=True)),\n",
    "        (\"cat_encoder\", OneHotEncoder(sparse=False)),\n",
    "        ('standardscaler', StandardScaler())\n",
    "    ])"
   ]
  },
  {
   "cell_type": "markdown",
   "id": "fe26e36c",
   "metadata": {},
   "source": [
    "## Pipeline for numerical data"
   ]
  },
  {
   "cell_type": "code",
   "execution_count": 58,
   "id": "9cc3f055",
   "metadata": {},
   "outputs": [],
   "source": [
    "num_pipeline = Pipeline([\n",
    "        #(\"select_cat\", selector(dtype_exclude=object)),\n",
    "        (\"imputer\", SimpleImputer(strategy = \"median\", add_indicator=True)),#IterativeImputer(initial_strategy = \"median\", add_indicator=True)),\n",
    "        ('standardscaler', StandardScaler())\n",
    "    ])"
   ]
  },
  {
   "cell_type": "markdown",
   "id": "5cf73903",
   "metadata": {},
   "source": [
    "## Concatenate two pipelines with ColumnTransformer"
   ]
  },
  {
   "cell_type": "code",
   "execution_count": 59,
   "id": "6fd1d8b7",
   "metadata": {},
   "outputs": [],
   "source": [
    "from sklearn.compose import ColumnTransformer\n",
    "column_transformer = ColumnTransformer(\n",
    "    [\n",
    "        (\"cat_pipe\", cat_pipeline, selector(dtype_include=object)),\n",
    "        (\"num_pipe\", num_pipeline, selector(dtype_exclude=object))\n",
    "    ]\n",
    ")"
   ]
  },
  {
   "cell_type": "markdown",
   "id": "10be5313",
   "metadata": {},
   "source": [
    "## Preprocessing"
   ]
  },
  {
   "cell_type": "code",
   "execution_count": 60,
   "id": "ab97a379",
   "metadata": {},
   "outputs": [],
   "source": [
    "# from imblearn.pipeline import Pipeline as Pipeline\n",
    "# from sklearn.feature_selection import SelectFromModel\n",
    "# from sklearn.ensemble import RandomForestClassifier\n",
    "\n",
    "# def pipe(classifier):\n",
    "#   pipe = Pipeline([\n",
    "#           (\"select_cat\", DataFrameRemover([\"application_id\"])),\n",
    "#           (\"column_transformer\", column_transformer),\n",
    "#           (\"smote\", SMOTE()),\n",
    "#           (\"feature_selection\", SelectFromModel(RandomForestClassifier(random_state= 2017, n_estimators=100), max_features=50)),\n",
    "#           ('classifier', classifier)])\n",
    "#   return pipe"
   ]
  },
  {
   "cell_type": "code",
   "execution_count": 61,
   "id": "7684701d",
   "metadata": {},
   "outputs": [],
   "source": [
    "from imblearn.pipeline import Pipeline as Pipeline\n",
    "from sklearn.feature_selection import SelectFromModel\n",
    "from sklearn.ensemble import RandomForestClassifier\n",
    "from sklearn.feature_selection import RFE\n",
    "from sklearn.svm import SVR\n",
    "\n",
    "def pipe(classifier):\n",
    "  pipe = Pipeline([\n",
    "          (\"select_cat\", DataFrameRemover([\"application_id\", \"loan_date_created\"])),\n",
    "          (\"column_transformer\", column_transformer),\n",
    "          (\"smote\", SMOTE(sampling_strategy=0.4)),\n",
    "          (\"randomundersampler\", RandomUnderSampler(sampling_strategy=0.75)),\n",
    "          (\"feature_selection\", SelectFromModel(RandomForestClassifier(random_state= 2017, n_estimators=100), max_features=50)),\n",
    "          #(\"feature_selection\", RFE(SVR(kernel=\"linear\"), n_features_to_select=50, step=1)),\n",
    "          ('classifier', classifier)])\n",
    "  return pipe"
   ]
  },
  {
   "cell_type": "markdown",
   "id": "d5ca64e7",
   "metadata": {},
   "source": [
    "I used a version of k-fold cross-validation that preserves the imbalanced class distribution in each fold. It is called stratified k-fold cross-validation and will enforce the class distribution in each split of the data to match the distribution in the complete training dataset."
   ]
  },
  {
   "cell_type": "code",
   "execution_count": 62,
   "id": "3a21b232",
   "metadata": {},
   "outputs": [],
   "source": [
    "from sklearn.model_selection import StratifiedKFold\n",
    "\n",
    "seed=123\n",
    "kfold = StratifiedKFold(n_splits=5, random_state=seed, shuffle = True)"
   ]
  },
  {
   "cell_type": "markdown",
   "id": "51024514",
   "metadata": {},
   "source": [
    "# Grid solutions"
   ]
  },
  {
   "cell_type": "markdown",
   "id": "b7f619b9",
   "metadata": {},
   "source": [
    "In GridSearchCV, it is important that the gridded parameters are not at the extremes of the intervals!\n",
    "Note: On my computer, some tasks count a few minutes, so this condition may not be fulfilled."
   ]
  },
  {
   "cell_type": "markdown",
   "id": "fdaa9d3d",
   "metadata": {},
   "source": [
    "Note: Accuracy is not the metric to use when working with an imbalanced dataset. We have seen that it is misleading.\n",
    "I've chosen \"f1 score\" to performance measure."
   ]
  },
  {
   "cell_type": "code",
   "execution_count": 63,
   "id": "43014a63",
   "metadata": {},
   "outputs": [],
   "source": [
    "from sklearn.model_selection import GridSearchCV\n",
    "from sklearn.preprocessing import StandardScaler"
   ]
  },
  {
   "cell_type": "code",
   "execution_count": 64,
   "id": "f31f77b8",
   "metadata": {},
   "outputs": [],
   "source": [
    "import warnings\n",
    "warnings.filterwarnings('ignore')"
   ]
  },
  {
   "cell_type": "markdown",
   "id": "2dfcc0c1",
   "metadata": {},
   "source": [
    "Linear Support Vector Classifier"
   ]
  },
  {
   "cell_type": "code",
   "execution_count": 83,
   "id": "20848680",
   "metadata": {},
   "outputs": [
    {
     "data": {
      "text/plain": [
       "{'classifier__C': 0.1}"
      ]
     },
     "execution_count": 83,
     "metadata": {},
     "output_type": "execute_result"
    }
   ],
   "source": [
    "from imblearn.pipeline import Pipeline\n",
    "from sklearn.svm import LinearSVC\n",
    "from sklearn.svm import SVC\n",
    "\n",
    "pipe_1 = pipe(LinearSVC(C=1))\n",
    "\n",
    "param_grid_1 = {\n",
    "            'classifier__C': [0.1, 0.5, 1]\n",
    "}\n",
    "\n",
    "grid_1 = GridSearchCV(pipe_1, param_grid_1, cv=kfold, return_train_score=True, scoring=\"f1\")\n",
    "\n",
    "grid_1.fit(X_train, y_train)\n",
    "grid_1.best_params_"
   ]
  },
  {
   "cell_type": "markdown",
   "id": "4dfd3902",
   "metadata": {},
   "source": [
    "Logistic Regression"
   ]
  },
  {
   "cell_type": "code",
   "execution_count": 66,
   "id": "653fd5ad",
   "metadata": {},
   "outputs": [
    {
     "data": {
      "text/plain": [
       "{'classifier__C': 10}"
      ]
     },
     "execution_count": 66,
     "metadata": {},
     "output_type": "execute_result"
    }
   ],
   "source": [
    "from sklearn.linear_model import LogisticRegression\n",
    "\n",
    "pipe_2 = pipe(LogisticRegression(C=1))\n",
    "\n",
    "param_grid_2 = {\n",
    "            'classifier__C': [0.01, 0.1, 1, 10,100,1000]\n",
    "}\n",
    "\n",
    "grid_2 = GridSearchCV(pipe_2, param_grid_2, cv=kfold, return_train_score=True, scoring=\"f1\")\n",
    "\n",
    "grid_2.fit(X_train, y_train)\n",
    "grid_2.best_params_"
   ]
  },
  {
   "cell_type": "markdown",
   "id": "a263be29",
   "metadata": {},
   "source": [
    "k-Nearest Neighbors"
   ]
  },
  {
   "cell_type": "code",
   "execution_count": 67,
   "id": "a08e5801",
   "metadata": {},
   "outputs": [
    {
     "data": {
      "text/plain": [
       "{'classifier__metric': 'euclidean', 'classifier__n_neighbors': 5}"
      ]
     },
     "execution_count": 67,
     "metadata": {},
     "output_type": "execute_result"
    }
   ],
   "source": [
    "from sklearn.neighbors import KNeighborsClassifier\n",
    "\n",
    "pipe_3 = pipe(KNeighborsClassifier(n_neighbors=2, metric='euclidean'))\n",
    "\n",
    "param_grid_3 = {\n",
    "            'classifier__n_neighbors': [2, 5, 10, 11, 12, 15],\n",
    "            'classifier__metric': ['euclidean', 'cityblock']\n",
    "}\n",
    "\n",
    "\n",
    "grid_3 = GridSearchCV(pipe_3, param_grid_3, cv=kfold, return_train_score=True, scoring=\"f1\")\n",
    "\n",
    "grid_3.fit(X_train, y_train)\n",
    "grid_3.best_params_"
   ]
  },
  {
   "cell_type": "markdown",
   "id": "566fa5eb",
   "metadata": {},
   "source": [
    "Decision Tree Classifier"
   ]
  },
  {
   "cell_type": "code",
   "execution_count": 68,
   "id": "6d47302f",
   "metadata": {},
   "outputs": [
    {
     "data": {
      "text/plain": [
       "{'classifier__max_depth': 30,\n",
       " 'classifier__max_leaf_nodes': 40,\n",
       " 'classifier__min_samples_split': 30}"
      ]
     },
     "execution_count": 68,
     "metadata": {},
     "output_type": "execute_result"
    }
   ],
   "source": [
    "from sklearn.tree import DecisionTreeClassifier\n",
    "\n",
    "pipe_4 = pipe(DecisionTreeClassifier())\n",
    "\n",
    "param_grid_4 = {\n",
    "            'classifier__max_depth': [5, 10, 20, 30],\n",
    "            'classifier__min_samples_split': [2, 5, 10, 30],\n",
    "            'classifier__max_leaf_nodes': [3, 10, 20, 40]\n",
    "}\n",
    "\n",
    "\n",
    "grid_4 = GridSearchCV(pipe_4, param_grid_4, cv=kfold, return_train_score=True, scoring=\"f1\")\n",
    "\n",
    "grid_4.fit(X_train, y_train)\n",
    "grid_4.best_params_"
   ]
  },
  {
   "cell_type": "markdown",
   "id": "8db29f83",
   "metadata": {},
   "source": [
    "Gradient Boosting Classifier"
   ]
  },
  {
   "cell_type": "code",
   "execution_count": 69,
   "id": "722a9ae9",
   "metadata": {},
   "outputs": [
    {
     "data": {
      "text/plain": [
       "{'classifier__learning_rate': 1, 'classifier__n_estimators': 200}"
      ]
     },
     "execution_count": 69,
     "metadata": {},
     "output_type": "execute_result"
    }
   ],
   "source": [
    "from sklearn.ensemble import GradientBoostingClassifier\n",
    "\n",
    "pipe_5 = pipe(GradientBoostingClassifier(\n",
    "                       n_estimators=1, \n",
    "                      learning_rate=0.5, \n",
    "                      random_state=42))\n",
    "\n",
    "\n",
    "param_grid_5 = {'classifier__n_estimators': [50, 100, 200],\n",
    "              'classifier__learning_rate': [0.1, 0.2, 0.5, 0.9, 1]\n",
    "             }\n",
    "\n",
    "grid_5 = GridSearchCV(pipe_5, param_grid_5, cv=kfold, return_train_score=True, scoring=\"f1\")\n",
    "\n",
    "grid_5.fit(X_train, y_train)\n",
    "grid_5.best_params_"
   ]
  },
  {
   "cell_type": "markdown",
   "id": "a15c90f5",
   "metadata": {},
   "source": [
    "Random Forest"
   ]
  },
  {
   "cell_type": "code",
   "execution_count": 70,
   "id": "03c6bdd8",
   "metadata": {},
   "outputs": [
    {
     "data": {
      "text/plain": [
       "{'classifier__max_depth': 10,\n",
       " 'classifier__max_leaf_nodes': 20,\n",
       " 'classifier__n_estimators': 10}"
      ]
     },
     "execution_count": 70,
     "metadata": {},
     "output_type": "execute_result"
    }
   ],
   "source": [
    "from sklearn.ensemble import RandomForestClassifier\n",
    "\n",
    "pipe_6 = pipe(RandomForestClassifier(n_estimators=500, max_leaf_nodes=16))\n",
    "\n",
    "param_grid_6 = {'classifier__n_estimators': [10, 50, 150],\n",
    "              'classifier__max_leaf_nodes': [5, 10, 20],\n",
    "              'classifier__max_depth': [10, 20, 30]\n",
    "             }\n",
    "\n",
    "grid_6 = GridSearchCV(pipe_6, param_grid_6, cv=kfold, return_train_score=True, scoring=\"f1\")\n",
    "\n",
    "grid_6.fit(X_train, y_train)\n",
    "grid_6.best_params_"
   ]
  },
  {
   "cell_type": "markdown",
   "id": "4ca512b9",
   "metadata": {},
   "source": [
    "Bagging Classifier"
   ]
  },
  {
   "cell_type": "code",
   "execution_count": 71,
   "id": "1be2545c",
   "metadata": {},
   "outputs": [
    {
     "data": {
      "text/plain": [
       "{'classifier__max_samples': 10, 'classifier__n_estimators': 50}"
      ]
     },
     "execution_count": 71,
     "metadata": {},
     "output_type": "execute_result"
    }
   ],
   "source": [
    "from sklearn.ensemble import BaggingClassifier\n",
    "from sklearn.tree import DecisionTreeClassifier\n",
    "\n",
    "pipe_7 = pipe(BaggingClassifier(DecisionTreeClassifier(random_state=42), n_estimators=500,\n",
    "                                    max_samples=100, bootstrap=True, random_state=42))\n",
    "\n",
    "param_grid_7 = {'classifier__n_estimators': [10,50,100],\n",
    "              'classifier__max_samples': [10,20]\n",
    "             }\n",
    "\n",
    "grid_7 = GridSearchCV(pipe_7, param_grid_7, cv=kfold, return_train_score=True, scoring=\"f1\")\n",
    "\n",
    "grid_7.fit(X_train, y_train)\n",
    "grid_7.best_params_"
   ]
  },
  {
   "cell_type": "markdown",
   "id": "433ea742",
   "metadata": {},
   "source": [
    "Extra Trees Classifier"
   ]
  },
  {
   "cell_type": "code",
   "execution_count": 72,
   "id": "23de2550",
   "metadata": {},
   "outputs": [
    {
     "data": {
      "text/plain": [
       "{'classifier__max_depth': 10,\n",
       " 'classifier__max_leaf_nodes': 20,\n",
       " 'classifier__n_estimators': 100}"
      ]
     },
     "execution_count": 72,
     "metadata": {},
     "output_type": "execute_result"
    }
   ],
   "source": [
    "from sklearn.ensemble import ExtraTreesClassifier\n",
    "\n",
    "pipe_8 = pipe(ExtraTreesClassifier(n_estimators=500, max_leaf_nodes=16))\n",
    "\n",
    "param_grid_8 = {'classifier__n_estimators': [10, 50, 100],\n",
    "              'classifier__max_leaf_nodes': [10, 20],\n",
    "              'classifier__max_depth': [10, 20]\n",
    "             }\n",
    "\n",
    "grid_8 = GridSearchCV(pipe_8, param_grid_8, cv=kfold, return_train_score=True, scoring=\"f1\")\n",
    "\n",
    "grid_8.fit(X_train, y_train)\n",
    "grid_8.best_params_"
   ]
  },
  {
   "cell_type": "markdown",
   "id": "a9c1cc37",
   "metadata": {},
   "source": [
    "Adaptive Boosting"
   ]
  },
  {
   "cell_type": "code",
   "execution_count": 73,
   "id": "1e7e3afc",
   "metadata": {},
   "outputs": [
    {
     "data": {
      "text/plain": [
       "{'classifier__base_estimator__max_depth': 40,\n",
       " 'classifier__learning_rate': 0.9,\n",
       " 'classifier__n_estimators': 400}"
      ]
     },
     "execution_count": 73,
     "metadata": {},
     "output_type": "execute_result"
    }
   ],
   "source": [
    "from sklearn.ensemble import AdaBoostClassifier\n",
    "from sklearn.tree import DecisionTreeClassifier\n",
    "\n",
    "pipe_9 = pipe(AdaBoostClassifier(\n",
    "                        DecisionTreeClassifier(max_depth=1), \n",
    "                        n_estimators=1, learning_rate=0.5, \n",
    "                        algorithm=\"SAMME.R\", random_state=42)\n",
    "                   )\n",
    "\n",
    "\n",
    "param_grid_9 = {'classifier__n_estimators': [200, 300, 400],\n",
    "              'classifier__learning_rate': [0.9, 0.95],\n",
    "              'classifier__base_estimator__max_depth':[20, 40]\n",
    "             }\n",
    "\n",
    "grid_9 = GridSearchCV(pipe_9, param_grid_9, cv=kfold, return_train_score=True, scoring=\"f1\")\n",
    "\n",
    "grid_9.fit(X_train, y_train)\n",
    "grid_9.best_params_"
   ]
  },
  {
   "cell_type": "markdown",
   "id": "9a399f5f",
   "metadata": {},
   "source": [
    "Extreme Gradient Boosting (xgboost)"
   ]
  },
  {
   "cell_type": "code",
   "execution_count": 74,
   "id": "f401b71e",
   "metadata": {},
   "outputs": [
    {
     "data": {
      "text/plain": [
       "{'classifier__colsample_bytree': 0.8,\n",
       " 'classifier__gamma': 1.7,\n",
       " 'classifier__learning_rate': 0.1,\n",
       " 'classifier__max_depth': 7,\n",
       " 'classifier__min_child_weight': 7,\n",
       " 'classifier__n_estimators': 200,\n",
       " 'classifier__subsample': 0.75}"
      ]
     },
     "execution_count": 74,
     "metadata": {},
     "output_type": "execute_result"
    }
   ],
   "source": [
    "from scipy.stats.distributions import uniform, randint\n",
    "from sklearn.model_selection import GridSearchCV, RandomizedSearchCV\n",
    "import xgboost\n",
    "\n",
    "\n",
    "pipe_10 = pipe(xgboost.XGBClassifier(n_estimators=1, \n",
    "                      learning_rate=0.5, \n",
    "                      random_state=42))\n",
    "\n",
    "\n",
    "param_grid_10 ={\n",
    "    'classifier__max_depth': [3, 5, 7],\n",
    "    'classifier__learning_rate': [0.05, 0.1],\n",
    "    'classifier__n_estimators': [150, 200, 150],\n",
    "    'classifier__gamma': [1.2, 1.7, 2.2],\n",
    "    'classifier__colsample_bytree': [1, 0.8, 0.5],\n",
    "    'classifier__subsample': [0.75, 0.5],\n",
    "    'classifier__min_child_weight': [7, 10]\n",
    "}\n",
    "\n",
    "grid_10 = GridSearchCV(pipe_10, param_grid_10, cv=kfold, return_train_score=True, scoring=\"f1\")\n",
    "\n",
    "grid_10.fit(X_train, y_train)\n",
    "grid_10.best_params_"
   ]
  },
  {
   "cell_type": "code",
   "execution_count": 75,
   "id": "e35b53d0",
   "metadata": {},
   "outputs": [
    {
     "data": {
      "text/plain": [
       "{'classifier__colsample_bytree': 0.74203192722371,\n",
       " 'classifier__gamma': 0.6605046771720597,\n",
       " 'classifier__learning_rate': 0.0697423046763795,\n",
       " 'classifier__max_depth': 8,\n",
       " 'classifier__min_child_weight': 5,\n",
       " 'classifier__n_estimators': 213,\n",
       " 'classifier__subsample': 0.9197290633756794}"
      ]
     },
     "execution_count": 75,
     "metadata": {},
     "output_type": "execute_result"
    }
   ],
   "source": [
    "from scipy.stats.distributions import uniform, randint\n",
    "from sklearn.model_selection import GridSearchCV, RandomizedSearchCV\n",
    "import xgboost\n",
    "\n",
    "\n",
    "pipe_11 = pipe(xgboost.XGBClassifier(n_estimators=1, \n",
    "                      learning_rate=0.5, \n",
    "                      random_state=42))\n",
    "\n",
    "\n",
    "param_grid_11 = {\n",
    "    'classifier__max_depth': randint(3, 11),\n",
    "    'classifier__learning_rate': uniform(0.001, 0.1-0.001),\n",
    "    'classifier__n_estimators': randint(50, 400),\n",
    "    'classifier__gamma': uniform(0,2),\n",
    "    'classifier__colsample_bytree': uniform(0.5, 0.5),\n",
    "    'classifier__subsample': uniform(0.5, 0.5),\n",
    "    'classifier__min_child_weight': randint(1, 11)\n",
    "}\n",
    "\n",
    "grid_11 = RandomizedSearchCV(n_iter=10,estimator=pipe_11, \n",
    "                             param_distributions=param_grid_11, \n",
    "                      cv=kfold, \n",
    "                      return_train_score=True,\n",
    "                      scoring=\"f1\")\n",
    "\n",
    "grid_11.fit(X_train, y_train)\n",
    "grid_11.best_params_"
   ]
  },
  {
   "cell_type": "markdown",
   "id": "a419d088",
   "metadata": {},
   "source": [
    "# Results"
   ]
  },
  {
   "cell_type": "markdown",
   "id": "2c64f67c",
   "metadata": {},
   "source": [
    "Results on test data."
   ]
  },
  {
   "cell_type": "code",
   "execution_count": 76,
   "id": "5530127b",
   "metadata": {},
   "outputs": [],
   "source": [
    "from sklearn import  metrics\n",
    "\n",
    "\n",
    "models = []\n",
    "models.append((str(pipe_1.steps[-1][1]).split(\"(\")[0], grid_1.best_estimator_))\n",
    "models.append((str(pipe_2.steps[-1][1]).split(\"(\")[0], grid_2.best_estimator_))\n",
    "models.append((str(pipe_3.steps[-1][1]).split(\"(\")[0], grid_3.best_estimator_))\n",
    "models.append((str(pipe_4.steps[-1][1]).split(\"(\")[0], grid_4.best_estimator_))\n",
    "models.append((str(pipe_5.steps[-1][1]).split(\"(\")[0], grid_5.best_estimator_))\n",
    "models.append((str(pipe_6.steps[-1][1]).split(\"(\")[0], grid_6.best_estimator_))\n",
    "models.append((str(pipe_7.steps[-1][1]).split(\"(\")[0], grid_7.best_estimator_))\n",
    "models.append((str(pipe_8.steps[-1][1]).split(\"(\")[0], grid_8.best_estimator_))\n",
    "models.append((str(pipe_9.steps[-1][1]).split(\"(\")[0], grid_9.best_estimator_))\n",
    "models.append((str(pipe_10.steps[-1][1]).split(\"(\")[0], grid_10.best_estimator_))\n",
    "models.append((str(pipe_11.steps[-1][1]).split(\"(\")[0], grid_11.best_estimator_))\n",
    "\n",
    "precision_score = []\n",
    "recall_score = []\n",
    "f1_score = []\n",
    "accuracy_score = []\n",
    "roc_auc_score = []\n",
    "for name, model in models:\n",
    "    precision_score.append(metrics.precision_score(y_test , model.predict(X_test)))\n",
    "    recall_score.append(metrics.recall_score(y_test , model.predict(X_test)))\n",
    "    f1_score.append( metrics.f1_score(y_test , model.predict(X_test)))\n",
    "    accuracy_score.append(metrics.accuracy_score(y_test , model.predict(X_test)))\n",
    "    if (name == 'LinearSVC'):\n",
    "        roc_auc_score.append(metrics.roc_auc_score(y_test , model.decision_function(X_test)))        \n",
    "    else:    \n",
    "        roc_auc_score.append(metrics.roc_auc_score(y_test , model.predict_proba(X_test)[:,1]))\n",
    "\n",
    "train_accuracy_score = []\n",
    "for name, model in models:\n",
    "    train_accuracy_score.append(metrics.accuracy_score(y_train , model.predict(X_train)))"
   ]
  },
  {
   "cell_type": "code",
   "execution_count": 77,
   "id": "88216da7",
   "metadata": {},
   "outputs": [
    {
     "data": {
      "text/html": [
       "<div>\n",
       "<style scoped>\n",
       "    .dataframe tbody tr th:only-of-type {\n",
       "        vertical-align: middle;\n",
       "    }\n",
       "\n",
       "    .dataframe tbody tr th {\n",
       "        vertical-align: top;\n",
       "    }\n",
       "\n",
       "    .dataframe thead th {\n",
       "        text-align: right;\n",
       "    }\n",
       "</style>\n",
       "<table border=\"1\" class=\"dataframe\">\n",
       "  <thead>\n",
       "    <tr style=\"text-align: right;\">\n",
       "      <th></th>\n",
       "      <th>Method</th>\n",
       "      <th>test_precision_score</th>\n",
       "      <th>recall_score</th>\n",
       "      <th>f1_score</th>\n",
       "      <th>accuracy_score</th>\n",
       "      <th>roc_auc_score</th>\n",
       "    </tr>\n",
       "  </thead>\n",
       "  <tbody>\n",
       "    <tr>\n",
       "      <th>0</th>\n",
       "      <td>LinearSVC</td>\n",
       "      <td>0.439863</td>\n",
       "      <td>0.527835</td>\n",
       "      <td>0.479850</td>\n",
       "      <td>0.7225</td>\n",
       "      <td>0.746374</td>\n",
       "    </tr>\n",
       "    <tr>\n",
       "      <th>1</th>\n",
       "      <td>LogisticRegression</td>\n",
       "      <td>0.457045</td>\n",
       "      <td>0.548454</td>\n",
       "      <td>0.498594</td>\n",
       "      <td>0.7325</td>\n",
       "      <td>0.749759</td>\n",
       "    </tr>\n",
       "    <tr>\n",
       "      <th>2</th>\n",
       "      <td>KNeighborsClassifier</td>\n",
       "      <td>0.447334</td>\n",
       "      <td>0.709278</td>\n",
       "      <td>0.548644</td>\n",
       "      <td>0.7170</td>\n",
       "      <td>0.787524</td>\n",
       "    </tr>\n",
       "    <tr>\n",
       "      <th>3</th>\n",
       "      <td>DecisionTreeClassifier</td>\n",
       "      <td>0.433180</td>\n",
       "      <td>0.581443</td>\n",
       "      <td>0.496479</td>\n",
       "      <td>0.7140</td>\n",
       "      <td>0.718528</td>\n",
       "    </tr>\n",
       "    <tr>\n",
       "      <th>4</th>\n",
       "      <td>GradientBoostingClassifier</td>\n",
       "      <td>0.573353</td>\n",
       "      <td>0.789691</td>\n",
       "      <td>0.664354</td>\n",
       "      <td>0.8065</td>\n",
       "      <td>0.854613</td>\n",
       "    </tr>\n",
       "    <tr>\n",
       "      <th>5</th>\n",
       "      <td>RandomForestClassifier</td>\n",
       "      <td>0.453875</td>\n",
       "      <td>0.507216</td>\n",
       "      <td>0.479065</td>\n",
       "      <td>0.7325</td>\n",
       "      <td>0.742124</td>\n",
       "    </tr>\n",
       "    <tr>\n",
       "      <th>6</th>\n",
       "      <td>BaggingClassifier</td>\n",
       "      <td>0.450794</td>\n",
       "      <td>0.292784</td>\n",
       "      <td>0.355000</td>\n",
       "      <td>0.7420</td>\n",
       "      <td>0.674061</td>\n",
       "    </tr>\n",
       "    <tr>\n",
       "      <th>7</th>\n",
       "      <td>ExtraTreesClassifier</td>\n",
       "      <td>0.503546</td>\n",
       "      <td>0.439175</td>\n",
       "      <td>0.469163</td>\n",
       "      <td>0.7590</td>\n",
       "      <td>0.749361</td>\n",
       "    </tr>\n",
       "    <tr>\n",
       "      <th>8</th>\n",
       "      <td>AdaBoostClassifier</td>\n",
       "      <td>0.494102</td>\n",
       "      <td>0.777320</td>\n",
       "      <td>0.604167</td>\n",
       "      <td>0.7530</td>\n",
       "      <td>0.761267</td>\n",
       "    </tr>\n",
       "    <tr>\n",
       "      <th>9</th>\n",
       "      <td>XGBClassifier</td>\n",
       "      <td>0.613402</td>\n",
       "      <td>0.736082</td>\n",
       "      <td>0.669166</td>\n",
       "      <td>0.8235</td>\n",
       "      <td>0.877865</td>\n",
       "    </tr>\n",
       "    <tr>\n",
       "      <th>10</th>\n",
       "      <td>XGBClassifier</td>\n",
       "      <td>0.638079</td>\n",
       "      <td>0.767010</td>\n",
       "      <td>0.696629</td>\n",
       "      <td>0.8380</td>\n",
       "      <td>0.888547</td>\n",
       "    </tr>\n",
       "  </tbody>\n",
       "</table>\n",
       "</div>"
      ],
      "text/plain": [
       "                        Method  test_precision_score  recall_score  f1_score  \\\n",
       "0                    LinearSVC              0.439863      0.527835  0.479850   \n",
       "1           LogisticRegression              0.457045      0.548454  0.498594   \n",
       "2         KNeighborsClassifier              0.447334      0.709278  0.548644   \n",
       "3       DecisionTreeClassifier              0.433180      0.581443  0.496479   \n",
       "4   GradientBoostingClassifier              0.573353      0.789691  0.664354   \n",
       "5       RandomForestClassifier              0.453875      0.507216  0.479065   \n",
       "6            BaggingClassifier              0.450794      0.292784  0.355000   \n",
       "7         ExtraTreesClassifier              0.503546      0.439175  0.469163   \n",
       "8           AdaBoostClassifier              0.494102      0.777320  0.604167   \n",
       "9                XGBClassifier              0.613402      0.736082  0.669166   \n",
       "10               XGBClassifier              0.638079      0.767010  0.696629   \n",
       "\n",
       "    accuracy_score  roc_auc_score  \n",
       "0           0.7225       0.746374  \n",
       "1           0.7325       0.749759  \n",
       "2           0.7170       0.787524  \n",
       "3           0.7140       0.718528  \n",
       "4           0.8065       0.854613  \n",
       "5           0.7325       0.742124  \n",
       "6           0.7420       0.674061  \n",
       "7           0.7590       0.749361  \n",
       "8           0.7530       0.761267  \n",
       "9           0.8235       0.877865  \n",
       "10          0.8380       0.888547  "
      ]
     },
     "execution_count": 77,
     "metadata": {},
     "output_type": "execute_result"
    }
   ],
   "source": [
    "import pandas as pd\n",
    "d = {'test_precision_score': precision_score,\n",
    "     'recall_score': recall_score, \n",
    "     'f1_score': f1_score,\n",
    "     'accuracy_score' : accuracy_score,\n",
    "     'roc_auc_score' : roc_auc_score\n",
    "    }\n",
    "df = pd.DataFrame(data=d)\n",
    "df.insert(loc=0, column='Method', value=[model[0] for model in models])\n",
    "df"
   ]
  },
  {
   "cell_type": "markdown",
   "id": "cc7c971e",
   "metadata": {},
   "source": [
    "Check if models are overfitted."
   ]
  },
  {
   "cell_type": "code",
   "execution_count": 78,
   "id": "c2d288eb",
   "metadata": {},
   "outputs": [
    {
     "data": {
      "text/html": [
       "<div>\n",
       "<style scoped>\n",
       "    .dataframe tbody tr th:only-of-type {\n",
       "        vertical-align: middle;\n",
       "    }\n",
       "\n",
       "    .dataframe tbody tr th {\n",
       "        vertical-align: top;\n",
       "    }\n",
       "\n",
       "    .dataframe thead th {\n",
       "        text-align: right;\n",
       "    }\n",
       "</style>\n",
       "<table border=\"1\" class=\"dataframe\">\n",
       "  <thead>\n",
       "    <tr style=\"text-align: right;\">\n",
       "      <th></th>\n",
       "      <th>Method</th>\n",
       "      <th>train_accuracy_score</th>\n",
       "      <th>test_accuracy_score</th>\n",
       "    </tr>\n",
       "  </thead>\n",
       "  <tbody>\n",
       "    <tr>\n",
       "      <th>0</th>\n",
       "      <td>LinearSVC</td>\n",
       "      <td>0.738000</td>\n",
       "      <td>0.7225</td>\n",
       "    </tr>\n",
       "    <tr>\n",
       "      <th>1</th>\n",
       "      <td>LogisticRegression</td>\n",
       "      <td>0.739000</td>\n",
       "      <td>0.7325</td>\n",
       "    </tr>\n",
       "    <tr>\n",
       "      <th>2</th>\n",
       "      <td>KNeighborsClassifier</td>\n",
       "      <td>0.779250</td>\n",
       "      <td>0.7170</td>\n",
       "    </tr>\n",
       "    <tr>\n",
       "      <th>3</th>\n",
       "      <td>DecisionTreeClassifier</td>\n",
       "      <td>0.748750</td>\n",
       "      <td>0.7140</td>\n",
       "    </tr>\n",
       "    <tr>\n",
       "      <th>4</th>\n",
       "      <td>GradientBoostingClassifier</td>\n",
       "      <td>0.929750</td>\n",
       "      <td>0.8065</td>\n",
       "    </tr>\n",
       "    <tr>\n",
       "      <th>5</th>\n",
       "      <td>RandomForestClassifier</td>\n",
       "      <td>0.752750</td>\n",
       "      <td>0.7325</td>\n",
       "    </tr>\n",
       "    <tr>\n",
       "      <th>6</th>\n",
       "      <td>BaggingClassifier</td>\n",
       "      <td>0.744000</td>\n",
       "      <td>0.7420</td>\n",
       "    </tr>\n",
       "    <tr>\n",
       "      <th>7</th>\n",
       "      <td>ExtraTreesClassifier</td>\n",
       "      <td>0.776375</td>\n",
       "      <td>0.7590</td>\n",
       "    </tr>\n",
       "    <tr>\n",
       "      <th>8</th>\n",
       "      <td>AdaBoostClassifier</td>\n",
       "      <td>0.908500</td>\n",
       "      <td>0.7530</td>\n",
       "    </tr>\n",
       "    <tr>\n",
       "      <th>9</th>\n",
       "      <td>XGBClassifier</td>\n",
       "      <td>0.923250</td>\n",
       "      <td>0.8235</td>\n",
       "    </tr>\n",
       "    <tr>\n",
       "      <th>10</th>\n",
       "      <td>XGBClassifier</td>\n",
       "      <td>0.936750</td>\n",
       "      <td>0.8380</td>\n",
       "    </tr>\n",
       "  </tbody>\n",
       "</table>\n",
       "</div>"
      ],
      "text/plain": [
       "                        Method  train_accuracy_score  test_accuracy_score\n",
       "0                    LinearSVC              0.738000               0.7225\n",
       "1           LogisticRegression              0.739000               0.7325\n",
       "2         KNeighborsClassifier              0.779250               0.7170\n",
       "3       DecisionTreeClassifier              0.748750               0.7140\n",
       "4   GradientBoostingClassifier              0.929750               0.8065\n",
       "5       RandomForestClassifier              0.752750               0.7325\n",
       "6            BaggingClassifier              0.744000               0.7420\n",
       "7         ExtraTreesClassifier              0.776375               0.7590\n",
       "8           AdaBoostClassifier              0.908500               0.7530\n",
       "9                XGBClassifier              0.923250               0.8235\n",
       "10               XGBClassifier              0.936750               0.8380"
      ]
     },
     "execution_count": 78,
     "metadata": {},
     "output_type": "execute_result"
    }
   ],
   "source": [
    "import pandas as pd\n",
    "d = {\n",
    "     'train_accuracy_score' : train_accuracy_score,\n",
    "     'test_accuracy_score' : accuracy_score\n",
    "    }\n",
    "df = pd.DataFrame(data=d)\n",
    "df.insert(loc=0, column='Method', value=[model[0] for model in models])\n",
    "df"
   ]
  },
  {
   "cell_type": "markdown",
   "id": "b2107d72",
   "metadata": {},
   "source": [
    "### Feature importances"
   ]
  },
  {
   "cell_type": "code",
   "execution_count": 140,
   "id": "c82dd9d9",
   "metadata": {},
   "outputs": [
    {
     "ename": "AttributeError",
     "evalue": "Estimator classifier does not provide get_feature_names_out. Did you mean to call pipeline[:-1].get_feature_names_out()?",
     "output_type": "error",
     "traceback": [
      "\u001b[0;31m---------------------------------------------------------------------------\u001b[0m",
      "\u001b[0;31mAttributeError\u001b[0m                            Traceback (most recent call last)",
      "\u001b[1;32m/Users/mikolajmiecznikowski/Documents/DS/projects/credit-defaults-forecasting/credit-defaults-forecasting_smote.ipynb Cell 72\u001b[0m in \u001b[0;36m<cell line: 1>\u001b[0;34m()\u001b[0m\n\u001b[0;32m----> <a href='vscode-notebook-cell:/Users/mikolajmiecznikowski/Documents/DS/projects/credit-defaults-forecasting/credit-defaults-forecasting_smote.ipynb#ch0000062?line=0'>1</a>\u001b[0m feature_names \u001b[39m=\u001b[39m grid_1\u001b[39m.\u001b[39;49mbest_estimator_[\u001b[39m-\u001b[39;49m\u001b[39m1\u001b[39;49m:]\u001b[39m.\u001b[39;49mget_feature_names_out()\\\n\u001b[1;32m      <a href='vscode-notebook-cell:/Users/mikolajmiecznikowski/Documents/DS/projects/credit-defaults-forecasting/credit-defaults-forecasting_smote.ipynb#ch0000062?line=1'>2</a>\u001b[0m     [grid_1\u001b[39m.\u001b[39mbest_estimator_[\u001b[39m-\u001b[39m\u001b[39m1\u001b[39m:]\u001b[39m.\u001b[39mget_support()]\n\u001b[1;32m      <a href='vscode-notebook-cell:/Users/mikolajmiecznikowski/Documents/DS/projects/credit-defaults-forecasting/credit-defaults-forecasting_smote.ipynb#ch0000062?line=2'>3</a>\u001b[0m feature_importances \u001b[39m=\u001b[39m {\u001b[39m\"\u001b[39m\u001b[39mfeature_names\u001b[39m\u001b[39m\"\u001b[39m: feature_names}\n\u001b[1;32m      <a href='vscode-notebook-cell:/Users/mikolajmiecznikowski/Documents/DS/projects/credit-defaults-forecasting/credit-defaults-forecasting_smote.ipynb#ch0000062?line=4'>5</a>\u001b[0m \u001b[39mfor\u001b[39;00m name, model \u001b[39min\u001b[39;00m models:\n",
      "File \u001b[0;32m/Library/Frameworks/Python.framework/Versions/3.10/lib/python3.10/site-packages/sklearn/pipeline.py:728\u001b[0m, in \u001b[0;36mPipeline.get_feature_names_out\u001b[0;34m(self, input_features)\u001b[0m\n\u001b[1;32m    726\u001b[0m \u001b[39mfor\u001b[39;00m _, name, transform \u001b[39min\u001b[39;00m \u001b[39mself\u001b[39m\u001b[39m.\u001b[39m_iter():\n\u001b[1;32m    727\u001b[0m     \u001b[39mif\u001b[39;00m \u001b[39mnot\u001b[39;00m \u001b[39mhasattr\u001b[39m(transform, \u001b[39m\"\u001b[39m\u001b[39mget_feature_names_out\u001b[39m\u001b[39m\"\u001b[39m):\n\u001b[0;32m--> 728\u001b[0m         \u001b[39mraise\u001b[39;00m \u001b[39mAttributeError\u001b[39;00m(\n\u001b[1;32m    729\u001b[0m             \u001b[39m\"\u001b[39m\u001b[39mEstimator \u001b[39m\u001b[39m{}\u001b[39;00m\u001b[39m does not provide get_feature_names_out. \u001b[39m\u001b[39m\"\u001b[39m\n\u001b[1;32m    730\u001b[0m             \u001b[39m\"\u001b[39m\u001b[39mDid you mean to call pipeline[:-1].get_feature_names_out\u001b[39m\u001b[39m\"\u001b[39m\n\u001b[1;32m    731\u001b[0m             \u001b[39m\"\u001b[39m\u001b[39m()?\u001b[39m\u001b[39m\"\u001b[39m\u001b[39m.\u001b[39mformat(name)\n\u001b[1;32m    732\u001b[0m         )\n\u001b[1;32m    733\u001b[0m     feature_names_out \u001b[39m=\u001b[39m transform\u001b[39m.\u001b[39mget_feature_names_out(feature_names_out)\n\u001b[1;32m    734\u001b[0m \u001b[39mreturn\u001b[39;00m feature_names_out\n",
      "\u001b[0;31mAttributeError\u001b[0m: Estimator classifier does not provide get_feature_names_out. Did you mean to call pipeline[:-1].get_feature_names_out()?"
     ]
    }
   ],
   "source": [
    "# feature_names = grid_1.best_estimator_[-1:].get_feature_names_out()\\\n",
    "#     [grid_1.best_estimator_[-1:].get_support()]\n",
    "# feature_importances = {\"feature_names\": feature_names}\n",
    "\n",
    "# for name, model in models:\n",
    "#     try:\n",
    "#         feature_importances[name] = model.named_steps['classifier'].feature_importances_\n",
    "#     except: None"
   ]
  },
  {
   "cell_type": "markdown",
   "id": "fca5a332",
   "metadata": {},
   "source": [
    "Let's look which model is the most importance for ours models."
   ]
  },
  {
   "cell_type": "code",
   "execution_count": 116,
   "id": "aca665bb",
   "metadata": {},
   "outputs": [
    {
     "ename": "AttributeError",
     "evalue": "'DataFrame' object has no attribute 'feature_names'",
     "output_type": "error",
     "traceback": [
      "\u001b[0;31m---------------------------------------------------------------------------\u001b[0m",
      "\u001b[0;31mAttributeError\u001b[0m                            Traceback (most recent call last)",
      "\u001b[1;32m/Users/mikolajmiecznikowski/Documents/DS/projects/credit-defaults-forecasting/credit-defaults-forecasting_smote.ipynb Cell 73\u001b[0m in \u001b[0;36m<cell line: 5>\u001b[0;34m()\u001b[0m\n\u001b[1;32m      <a href='vscode-notebook-cell:/Users/mikolajmiecznikowski/Documents/DS/projects/credit-defaults-forecasting/credit-defaults-forecasting_smote.ipynb#ch0000064?line=4'>5</a>\u001b[0m \u001b[39mfor\u001b[39;00m col \u001b[39min\u001b[39;00m feature_importances_df\u001b[39m.\u001b[39mcolumns[\u001b[39m1\u001b[39m:]:\n\u001b[1;32m      <a href='vscode-notebook-cell:/Users/mikolajmiecznikowski/Documents/DS/projects/credit-defaults-forecasting/credit-defaults-forecasting_smote.ipynb#ch0000064?line=5'>6</a>\u001b[0m     df \u001b[39m=\u001b[39m feature_importances_df\u001b[39m.\u001b[39msort_values(by\u001b[39m=\u001b[39mcol, ascending\u001b[39m=\u001b[39m\u001b[39mTrue\u001b[39;00m)\u001b[39m.\u001b[39miloc[\u001b[39m-\u001b[39m\u001b[39m15\u001b[39m:,:]\n\u001b[0;32m----> <a href='vscode-notebook-cell:/Users/mikolajmiecznikowski/Documents/DS/projects/credit-defaults-forecasting/credit-defaults-forecasting_smote.ipynb#ch0000064?line=6'>7</a>\u001b[0m     axes[i]\u001b[39m.\u001b[39mbarh(df\u001b[39m.\u001b[39;49mfeature_names, df[col], align\u001b[39m=\u001b[39m\u001b[39m'\u001b[39m\u001b[39mcenter\u001b[39m\u001b[39m'\u001b[39m, alpha \u001b[39m=\u001b[39m\u001b[39m0.5\u001b[39m, label\u001b[39m=\u001b[39mcol)\n\u001b[1;32m      <a href='vscode-notebook-cell:/Users/mikolajmiecznikowski/Documents/DS/projects/credit-defaults-forecasting/credit-defaults-forecasting_smote.ipynb#ch0000064?line=7'>8</a>\u001b[0m     axes[i]\u001b[39m.\u001b[39mlegend()\n\u001b[1;32m      <a href='vscode-notebook-cell:/Users/mikolajmiecznikowski/Documents/DS/projects/credit-defaults-forecasting/credit-defaults-forecasting_smote.ipynb#ch0000064?line=8'>9</a>\u001b[0m     i \u001b[39m+\u001b[39m\u001b[39m=\u001b[39m \u001b[39m1\u001b[39m\n",
      "File \u001b[0;32m/Library/Frameworks/Python.framework/Versions/3.10/lib/python3.10/site-packages/pandas/core/generic.py:5575\u001b[0m, in \u001b[0;36mNDFrame.__getattr__\u001b[0;34m(self, name)\u001b[0m\n\u001b[1;32m   5568\u001b[0m \u001b[39mif\u001b[39;00m (\n\u001b[1;32m   5569\u001b[0m     name \u001b[39mnot\u001b[39;00m \u001b[39min\u001b[39;00m \u001b[39mself\u001b[39m\u001b[39m.\u001b[39m_internal_names_set\n\u001b[1;32m   5570\u001b[0m     \u001b[39mand\u001b[39;00m name \u001b[39mnot\u001b[39;00m \u001b[39min\u001b[39;00m \u001b[39mself\u001b[39m\u001b[39m.\u001b[39m_metadata\n\u001b[1;32m   5571\u001b[0m     \u001b[39mand\u001b[39;00m name \u001b[39mnot\u001b[39;00m \u001b[39min\u001b[39;00m \u001b[39mself\u001b[39m\u001b[39m.\u001b[39m_accessors\n\u001b[1;32m   5572\u001b[0m     \u001b[39mand\u001b[39;00m \u001b[39mself\u001b[39m\u001b[39m.\u001b[39m_info_axis\u001b[39m.\u001b[39m_can_hold_identifiers_and_holds_name(name)\n\u001b[1;32m   5573\u001b[0m ):\n\u001b[1;32m   5574\u001b[0m     \u001b[39mreturn\u001b[39;00m \u001b[39mself\u001b[39m[name]\n\u001b[0;32m-> 5575\u001b[0m \u001b[39mreturn\u001b[39;00m \u001b[39mobject\u001b[39;49m\u001b[39m.\u001b[39;49m\u001b[39m__getattribute__\u001b[39;49m(\u001b[39mself\u001b[39;49m, name)\n",
      "\u001b[0;31mAttributeError\u001b[0m: 'DataFrame' object has no attribute 'feature_names'"
     ]
    },
    {
     "data": {
      "image/png": "[encoded data removed]",
      "text/plain": [
       "<Figure size 720x3600 with 5 Axes>"
      ]
     },
     "metadata": {
      "needs_background": "light"
     },
     "output_type": "display_data"
    }
   ],
   "source": [
    "# feature_importances_df = pd.DataFrame(data=feature_importances)\n",
    "# fig, axes = plt.subplots(figsize=(10, 50), nrows=len(feature_importances_df.columns[1:]))\n",
    "\n",
    "# i = 0\n",
    "# for col in feature_importances_df.columns[1:]:\n",
    "#     df = feature_importances_df.sort_values(by=col, ascending=True).iloc[-15:,:]\n",
    "#     axes[i].barh(df.feature_names, df[col], align='center', alpha =0.5, label=col)\n",
    "#     axes[i].legend()\n",
    "#     i += 1\n",
    "\n",
    "# fig.suptitle(\"Feature importance\", fontsize=18)"
   ]
  },
  {
   "cell_type": "code",
   "execution_count": null,
   "id": "425a75a7",
   "metadata": {},
   "outputs": [
    {
     "name": "stdout",
     "output_type": "stream",
     "text": [
      "LinearSVC\n",
      "LogisticRegression\n",
      "KNeighborsClassifier\n",
      "DecisionTreeClassifier\n",
      "GradientBoostingClassifier\n",
      "RandomForestClassifier\n",
      "BaggingClassifier\n",
      "ExtraTreesClassifier\n",
      "AdaBoostClassifier\n",
      "XGBClassifier\n"
     ]
    },
    {
     "data": {
      "image/png": "[encoded data removed]",
      "text/plain": [
       "<Figure size 800x600 with 1 Axes>"
      ]
     },
     "metadata": {},
     "output_type": "display_data"
    }
   ],
   "source": [
    "from sklearn.metrics import roc_curve\n",
    "\n",
    "def plot_roc_curve(fpr, tpr, label=None):\n",
    "    plt.plot(fpr, tpr, linewidth=2, label=label)\n",
    "    plt.plot([0, 1], [0, 1], 'k--')\n",
    "    plt.axis([0, 1, 0, 1])\n",
    "    plt.xlabel('False Positive Rate', fontsize=16)\n",
    "    plt.ylabel('True Positive Rate', fontsize=16)\n",
    "\n",
    "plt.figure(figsize=(8, 6))\n",
    "for name, model in models:\n",
    "    print(name)\n",
    "    if (name == 'LinearSVC'):\n",
    "        y_scores = model.decision_function(X_test)\n",
    "    else: \n",
    "        y_scores = model.predict_proba(X_test)[:,1]        \n",
    "    fpr, tpr, thresholds = roc_curve(y_test, y_scores)\n",
    "    plot_roc_curve(fpr, tpr, name)\n",
    "\n",
    "plt.legend(loc=\"lower right\", fontsize=16)\n",
    "plt.show()"
   ]
  },
  {
   "cell_type": "markdown",
   "id": "e9c8ae95",
   "metadata": {},
   "source": [
    "# ML Flow"
   ]
  },
  {
   "cell_type": "code",
   "execution_count": null,
   "id": "338a5257",
   "metadata": {},
   "outputs": [],
   "source": [
    "import mlflow\n",
    "from sklearn.model_selection import cross_validate"
   ]
  },
  {
   "cell_type": "code",
   "execution_count": null,
   "id": "ec84d574",
   "metadata": {},
   "outputs": [],
   "source": [
    "modelsdict = {\n",
    "  'xgboost': lambda params: xgboost.XGBClassifier(**params),\n",
    "  'adaboost': lambda params1, params2: AdaBoostClassifier(DecisionTreeClassifier(**params2), **params1)\n",
    "}"
   ]
  },
  {
   "cell_type": "code",
   "execution_count": null,
   "id": "b6b8cc01",
   "metadata": {},
   "outputs": [],
   "source": [
    "adaboost_grid = [(\n",
    "    {\n",
    "    'n_estimators': randint(200, 450),\n",
    "    'learning_rate': uniform(0.6, 1)\n",
    "    },\n",
    "    {\n",
    "    'max_depth':randint(5, 25)\n",
    "}) for i in range(100)]"
   ]
  },
  {
   "cell_type": "code",
   "execution_count": null,
   "id": "a71025d3",
   "metadata": {},
   "outputs": [],
   "source": [
    "class Mmlflow():\n",
    "  def __init__(self, exp_name, model_name, model_parameters, X, y):\n",
    "    self.exp_name = exp_name\n",
    "    self.model_name = model_name\n",
    "    self.model_parameters = model_parameters\n",
    "    self.X = X\n",
    "    self.y = y\n",
    "\n",
    "\n",
    "  def get_or_create_experiment(self):\n",
    "    name = self.exp_name\n",
    "    experiment = mlflow.get_experiment_by_name(name)\n",
    "    if experiment is None:\n",
    "        mlflow.create_experiment(name)\n",
    "        return mlflow.get_experiment_by_name(name)\n",
    "    \n",
    "    return experiment\n",
    "  \n",
    "  def _eid(self):\n",
    "    name = self.exp_name\n",
    "    return self.get_or_create_experiment().experiment_id\n",
    "\n",
    "  def get_models(self):\n",
    "    modelsparameters = adaboost_grid\n",
    "    models = []\n",
    "\n",
    "    for modelparameters in modelsparameters:\n",
    "        models += [\n",
    "        (self.model_name, modelsdict[self.model_name](modelparameters[0], modelparameters[1]))\n",
    "        ]\n",
    "    return models\n",
    "\n",
    "  def run_experiment(self, cv=5, scoring=[\"accuracy\", \"precision\", \"recall\", \"f1\", \"roc_auc\"], seed=123, tags={}, params={}, template_for_run_name=\"{}\"):\n",
    "      X, y, exp_name = self.X, self.y, self.exp_name\n",
    "      for model_name, model in self.get_models():\n",
    "\n",
    "        kfold = StratifiedKFold(n_splits=cv, random_state=seed, shuffle = True)\n",
    "        \n",
    "        model_str = str(model).split(\"(\")[0]\n",
    "\n",
    "        with mlflow.start_run(experiment_id=self._eid(), run_name=template_for_run_name.format(model_name)) as run:\n",
    "            tags[\"model\"] = model_str\n",
    "            \n",
    "            mlflow.set_tags(tags)\n",
    "            result = cross_validate(pipe(model), X, y, scoring=scoring, return_train_score=True, return_estimator=True)\n",
    "            estimator = result.get(\"estimator\")\n",
    "            if estimator:\n",
    "                del result[\"estimator\"]\n",
    "            \n",
    "            ### TRACK PARAMS\n",
    "            params.update(model.get_params()) \n",
    "            params.update(tags)\n",
    "            params.update({\n",
    "                \"kfold\": str(kfold),\n",
    "            })\n",
    "            mlflow.log_params(params)\n",
    "\n",
    "            ### TRACK METRICS\n",
    "            metrics = {}\n",
    "            metrics.update({\"avg_{}\".format(x): np.mean(result[x]) for x in result})\n",
    "            metrics.update({\"std_{}\".format(x): np.std(result[x]) for x in result})\n",
    "\n",
    "            mlflow.log_metrics(metrics)"
   ]
  },
  {
   "cell_type": "code",
   "execution_count": null,
   "id": "03e85233",
   "metadata": {},
   "outputs": [],
   "source": [
    "Mmlflow(\"adaboostexp\", \"adaboost\", adaboost_grid, X_train, y_train).run_experiment()"
   ]
  },
  {
   "cell_type": "code",
   "execution_count": 179,
   "id": "db0e8bd8",
   "metadata": {},
   "outputs": [],
   "source": [
    "y = train_data[\"TARGET\"]\n",
    "X = train_data.drop(columns=[\"TARGET\"])"
   ]
  },
  {
   "cell_type": "code",
   "execution_count": null,
   "id": "1f1b08b4",
   "metadata": {},
   "outputs": [],
   "source": [
    "Mmlflow(\"adaboostexp2\", \"adaboost\", adaboost_grid, X, y).run_experiment()"
   ]
  },
  {
   "cell_type": "markdown",
   "id": "e9c8ae95",
   "metadata": {},
   "source": [
    "# Save data"
   ]
  },
  {
   "cell_type": "code",
   "execution_count": null,
   "id": "91f745f6",
   "metadata": {},
   "outputs": [],
   "source": [
    "# output = pd.DataFrame({'application_id': test_data.application_id, 'TARGET': grid_10.best_estimator_.predict(test_data)})\n",
    "# output.to_csv('output/predict.csv', index = False)"
   ]
  },
  {
   "cell_type": "code",
   "execution_count": null,
   "id": "c2929844",
   "metadata": {},
   "outputs": [],
   "source": [
    "# output = pd.DataFrame({'application_id': test_data.application_id, 'TARGET_proba': grid_10.best_estimator_.predict_proba(test_data)[:,1].round(4)})\n",
    "# output.to_csv('output/predict_proba.csv', index = False)"
   ]
  }
 ],
 "metadata": {
  "kernelspec": {
   "display_name": "forecasting-credit-defaults",
   "language": "python",
   "name": "forecasting-credit-defaults"
  },
  "language_info": {
   "codemirror_mode": {
    "name": "ipython",
    "version": 3
   },
   "file_extension": ".py",
   "mimetype": "text/x-python",
   "name": "python",
   "nbconvert_exporter": "python",
   "pygments_lexer": "ipython3",
   "version": "3.10.5"
  },
  "vscode": {
   "interpreter": {
    "hash": "b480b8933f078b9bb649a28ef31ddb4e88638560591c0b6b6c9f25971fe4507f"
   }
  }
 },
 "nbformat": 4,
 "nbformat_minor": 5
}
